{
 "cells": [
  {
   "cell_type": "markdown",
   "id": "be2b1cf8",
   "metadata": {},
   "source": [
    "### Improving the code:"
   ]
  },
  {
   "cell_type": "code",
   "execution_count": 6,
   "id": "6139730b",
   "metadata": {},
   "outputs": [],
   "source": [
    "import boto3\n",
    "\n",
    "import pandas as pd\n",
    "\n",
    "from botocore import UNSIGNED\n",
    "\n",
    "from botocore.config import Config\n",
    "\n",
    "from io import StringIO, BytesIO\n",
    "\n",
    "from datetime import datetime, timedelta"
   ]
  },
  {
   "cell_type": "markdown",
   "id": "cefd7353",
   "metadata": {},
   "source": [
    "#### First, we want to add all possible parameters to the top to make the code more readable:"
   ]
  },
  {
   "cell_type": "code",
   "execution_count": 7,
   "id": "a25c65ba",
   "metadata": {},
   "outputs": [],
   "source": [
    "arg_date = '2022-02-13'\n",
    "\n",
    "source_format = '%Y-%m-%d'\n",
    "\n",
    "source_bucket = 'deutsche-boerse-xetra-pds'\n",
    "\n",
    "target_bucket = 'xetra-bucket-123'\n",
    "\n",
    "columns = ['ISIN', 'Date', 'Time', 'StartPrice', 'MaxPrice', 'MinPrice', 'EndPrice', 'TradedVolume']\n",
    "\n",
    "key = 'xetra_daily_report_' + datetime.today().strftime('%Y%m%d_%H%M%S') + '.parquet'"
   ]
  },
  {
   "cell_type": "code",
   "execution_count": 8,
   "id": "874d3e46",
   "metadata": {},
   "outputs": [],
   "source": [
    "arg_date_dt = datetime.strptime(arg_date, source_format).date() - timedelta(days=1)"
   ]
  },
  {
   "cell_type": "code",
   "execution_count": 9,
   "id": "fbe53067",
   "metadata": {},
   "outputs": [],
   "source": [
    "s3 = boto3.resource('s3', config=Config(signature_version=UNSIGNED))\n",
    "\n",
    "bucket = s3.Bucket(source_bucket)\n",
    "\n",
    "objects = [obj for obj in bucket.objects.all() if datetime.strptime(obj.key.split('/')[0], source_format).date() >= arg_date_dt]"
   ]
  },
  {
   "cell_type": "markdown",
   "id": "2df1df30",
   "metadata": {},
   "source": [
    "#### Here we take everything that was inside the for loop below and turn it into a function, which allows our code to look much cleaner:"
   ]
  },
  {
   "cell_type": "code",
   "execution_count": null,
   "id": "fd6ba436",
   "metadata": {},
   "outputs": [],
   "source": [
    "def csv_to_df(filename):\n",
    "    csv_obj = bucket.Object(key=filename).get().get('Body').read().decode('utf-8')\n",
    "    data = StringIO(csv_obj)\n",
    "    df = pd.read_csv(data, delimiter =',')\n",
    "    return df\n",
    "\n",
    "df_all = pd.concat([csv_to_df(obj.key) for obj in objects], ignore_index=True, axis=1)"
   ]
  },
  {
   "cell_type": "code",
   "execution_count": null,
   "id": "57686ac7",
   "metadata": {},
   "outputs": [],
   "source": [
    "df_all"
   ]
  },
  {
   "cell_type": "code",
   "execution_count": null,
   "id": "a5d92b75",
   "metadata": {},
   "outputs": [],
   "source": [
    "df_all = df_all.loc[:, columns]"
   ]
  },
  {
   "cell_type": "code",
   "execution_count": null,
   "id": "16b103cd",
   "metadata": {},
   "outputs": [],
   "source": [
    "df_all.dropna(inplace=True)"
   ]
  },
  {
   "cell_type": "markdown",
   "id": "cd171420",
   "metadata": {},
   "source": [
    "### Get opening price per ISIN and day:"
   ]
  },
  {
   "cell_type": "code",
   "execution_count": null,
   "id": "a19ae1c7",
   "metadata": {},
   "outputs": [],
   "source": [
    "df_all['opening_price'] = df_all.sort_values(by=['Time']).groupby(['ISIN','Date'])['StartPrice'].transform('first')"
   ]
  },
  {
   "cell_type": "markdown",
   "id": "ea020176",
   "metadata": {},
   "source": [
    "### Get closing price per ISIN and day"
   ]
  },
  {
   "cell_type": "code",
   "execution_count": null,
   "id": "2661371c",
   "metadata": {},
   "outputs": [],
   "source": [
    "df_all['closing_price'] = df_all.sort_values(by=['Time']).groupby(['ISIN','Date'])['StartPrice'].transform('last')"
   ]
  },
  {
   "cell_type": "markdown",
   "id": "87d60b00",
   "metadata": {},
   "source": [
    "### Aggregations"
   ]
  },
  {
   "cell_type": "code",
   "execution_count": null,
   "id": "5654f405",
   "metadata": {},
   "outputs": [],
   "source": [
    "df_all = df_all.groupby(['ISIN', 'Date'], as_index=False).agg(\n",
    "    opening_price_eur=('opening_price', 'min'),\n",
    "    closing_price_eur=('closing_price', 'min'),\n",
    "    minimum_price_eur=('MinPrice', 'min'),\n",
    "    maximum_price_eur=('MaxPrice', 'max'),\n",
    "    daily_traded_volume=('TradedVolume', 'sum')\n",
    ")"
   ]
  },
  {
   "cell_type": "markdown",
   "id": "766966a1",
   "metadata": {},
   "source": [
    "### Percent Change Prev Closing"
   ]
  },
  {
   "cell_type": "code",
   "execution_count": null,
   "id": "77928e64",
   "metadata": {},
   "outputs": [],
   "source": [
    "df_all['prev_closing_price'] = df_all.sort_values(by=['Date']).groupby(['ISIN'])['closing_price_eur'].shift(1)"
   ]
  },
  {
   "cell_type": "code",
   "execution_count": null,
   "id": "51dc02d7",
   "metadata": {},
   "outputs": [],
   "source": [
    "df_all['change_prev_closing_%'] = (\n",
    "    (df_all['closing_price_eur'] - df_all['prev_closing_price']) / df_all['prev_closing_price'] * 100\n",
    ")"
   ]
  },
  {
   "cell_type": "code",
   "execution_count": null,
   "id": "68276f84",
   "metadata": {},
   "outputs": [],
   "source": [
    "df_all.drop(columns=['prev_closing_price'], inplace=True)"
   ]
  },
  {
   "cell_type": "code",
   "execution_count": null,
   "id": "a8c07d98",
   "metadata": {},
   "outputs": [],
   "source": [
    "df_all = df_all.round(decimals=2)"
   ]
  },
  {
   "cell_type": "code",
   "execution_count": null,
   "id": "f94d739a",
   "metadata": {},
   "outputs": [],
   "source": [
    "df_all = df_all[df_all.Date >= arg_date]"
   ]
  },
  {
   "cell_type": "markdown",
   "id": "99240d3d",
   "metadata": {},
   "source": [
    "### Write to S3:"
   ]
  },
  {
   "cell_type": "code",
   "execution_count": null,
   "id": "295dfa08",
   "metadata": {},
   "outputs": [],
   "source": [
    "out_buffer = BytesIO()\n",
    "\n",
    "df_all.to_parquet(out_buffer, index=False)\n",
    "\n",
    "bucket_target = s3.Bucket(target_bucket)\n",
    "\n",
    "bucket_target.put_object(Body=out_buffer.getvalue(), Key=key)"
   ]
  },
  {
   "cell_type": "markdown",
   "id": "829a91ec",
   "metadata": {},
   "source": [
    "### Reading the uploaded file:"
   ]
  },
  {
   "cell_type": "code",
   "execution_count": null,
   "id": "4370adc6",
   "metadata": {},
   "outputs": [],
   "source": [
    "for obj in bucket_target.objects.all():\n",
    "    print(obj.key)"
   ]
  },
  {
   "cell_type": "code",
   "execution_count": null,
   "id": "984eb4f5",
   "metadata": {},
   "outputs": [],
   "source": [
    "prq_obj = bucket_target.Object(key='xetra_daily_report_20220212_000301.parquet').get().get('Body').read()\n",
    "\n",
    "data = BytesIO(prq_obj)\n",
    "\n",
    "df_report = pd.read_parquet(data)"
   ]
  },
  {
   "cell_type": "code",
   "execution_count": null,
   "id": "16012d42",
   "metadata": {
    "scrolled": true
   },
   "outputs": [],
   "source": [
    "df_report"
   ]
  }
 ],
 "metadata": {
  "kernelspec": {
   "display_name": "Python 3 (ipykernel)",
   "language": "python",
   "name": "python3"
  },
  "language_info": {
   "codemirror_mode": {
    "name": "ipython",
    "version": 3
   },
   "file_extension": ".py",
   "mimetype": "text/x-python",
   "name": "python",
   "nbconvert_exporter": "python",
   "pygments_lexer": "ipython3",
   "version": "3.9.7"
  }
 },
 "nbformat": 4,
 "nbformat_minor": 5
}
