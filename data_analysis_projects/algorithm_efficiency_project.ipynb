{
 "cells": [
  {
   "cell_type": "markdown",
   "metadata": {},
   "source": [
    "# Laptop Spec Analysis: Algorithm Efficiency and Data Analysis"
   ]
  },
  {
   "cell_type": "markdown",
   "metadata": {},
   "source": [
    "#### Here, I will create and recreate a class object in python that becomes more efficient with each iteration."
   ]
  },
  {
   "cell_type": "code",
   "execution_count": 8,
   "metadata": {
    "scrolled": false
   },
   "outputs": [
    {
     "name": "stdout",
     "output_type": "stream",
     "text": [
      "['Id', 'Company', 'Product', 'TypeName', 'Inches', 'ScreenResolution', 'Cpu', 'Ram', 'Memory', 'Gpu', 'OpSys', 'Weight', 'Price']\n"
     ]
    }
   ],
   "source": [
    "import csv\n",
    "\n",
    "with open(\"laptops.csv\") as file:\n",
    "    csv_reader = list(csv.reader(file))\n",
    "    header = csv_reader[0]\n",
    "    rows = csv_reader[1:]\n",
    "    \n",
    "print(header)"
   ]
  },
  {
   "cell_type": "markdown",
   "metadata": {},
   "source": [
    "First iteration of the Inventory Class:"
   ]
  },
  {
   "cell_type": "code",
   "execution_count": 9,
   "metadata": {
    "scrolled": false
   },
   "outputs": [
    {
     "name": "stdout",
     "output_type": "stream",
     "text": [
      "['Id', 'Company', 'Product', 'TypeName', 'Inches', 'ScreenResolution', 'Cpu', 'Ram', 'Memory', 'Gpu', 'OpSys', 'Weight', 'Price']\n",
      "1303\n"
     ]
    }
   ],
   "source": [
    "import csv\n",
    "\n",
    "class Inventory():\n",
    "    def __init__(self, csv_filename):\n",
    "        with open(csv_filename) as file:\n",
    "            csv_reader = list(csv.reader(file))\n",
    "            self.header = csv_reader[0]\n",
    "            self.rows = csv_reader[1:]\n",
    "            for thing in self.rows:\n",
    "                price = int(thing[-1])\n",
    "                thing[-1] = price\n",
    "                \n",
    "                \n",
    "                \n",
    "                \n",
    "thing = Inventory('laptops.csv')\n",
    "print(thing.header)\n",
    "print(len(thing.rows))\n",
    "            "
   ]
  },
  {
   "cell_type": "markdown",
   "metadata": {},
   "source": [
    "Second iteration of the Inventory Class:"
   ]
  },
  {
   "cell_type": "code",
   "execution_count": 10,
   "metadata": {
    "scrolled": true
   },
   "outputs": [
    {
     "name": "stdout",
     "output_type": "stream",
     "text": [
      "['3362737', 'HP', '250 G6', 'Notebook', '15.6', 'Full HD 1920x1080', 'Intel Core i5 7200U 2.5GHz', '8GB', '256GB SSD', 'Intel HD Graphics 620', 'No OS', '1.86kg', 575]\n",
      "None\n"
     ]
    }
   ],
   "source": [
    "import csv\n",
    "\n",
    "class Inventory():\n",
    "    def __init__(self, csv_filename):\n",
    "        with open(csv_filename) as file:\n",
    "            csv_reader = list(csv.reader(file))\n",
    "            self.header = csv_reader[0]\n",
    "            self.rows = csv_reader[1:]\n",
    "            for thing in self.rows:\n",
    "                price = int(thing[-1])\n",
    "                thing[-1] = price\n",
    "                \n",
    "    def get_laptop_from_id(self, laptop_id):\n",
    "        for item in self.rows:\n",
    "            if item[0] == laptop_id:\n",
    "                return item\n",
    "        return None\n",
    "            \n",
    "\n",
    "thing = Inventory('laptops.csv')\n",
    "print(thing.get_laptop_from_id('3362737'))\n",
    "print(thing.get_laptop_from_id('3362736'))"
   ]
  },
  {
   "cell_type": "markdown",
   "metadata": {},
   "source": [
    "Third iteration of the Inventory Class:"
   ]
  },
  {
   "cell_type": "code",
   "execution_count": 11,
   "metadata": {
    "scrolled": true
   },
   "outputs": [
    {
     "name": "stdout",
     "output_type": "stream",
     "text": [
      "['3362737', 'HP', '250 G6', 'Notebook', '15.6', 'Full HD 1920x1080', 'Intel Core i5 7200U 2.5GHz', '8GB', '256GB SSD', 'Intel HD Graphics 620', 'No OS', '1.86kg', 575]\n",
      "None\n"
     ]
    }
   ],
   "source": [
    "import csv\n",
    "\n",
    "class Inventory():\n",
    "    def __init__(self, csv_filename):\n",
    "        with open(csv_filename) as file:\n",
    "            csv_reader = list(csv.reader(file))\n",
    "            self.header = csv_reader[0]\n",
    "            self.rows = csv_reader[1:]\n",
    "            self.id_to_row = {}\n",
    "            for thing in self.rows:\n",
    "                price = int(thing[-1])\n",
    "                thing[-1] = price\n",
    "                id = thing[0]\n",
    "                self.id_to_row[id] = thing\n",
    "            \n",
    "                \n",
    "    def get_laptop_from_id(self, laptop_id):\n",
    "        for item in self.rows:\n",
    "            if item[0] == laptop_id:\n",
    "                return item\n",
    "        return None\n",
    "    \n",
    "    def get_laptop_from_id_fast(self, laptop_id):\n",
    "        if laptop_id in self.id_to_row:\n",
    "            return self.id_to_row[laptop_id]\n",
    "        return None\n",
    "\n",
    "thing = Inventory('laptops.csv')\n",
    "print(thing.get_laptop_from_id_fast('3362737'))\n",
    "print(thing.get_laptop_from_id_fast('3362736'))"
   ]
  },
  {
   "cell_type": "markdown",
   "metadata": {},
   "source": [
    "### Here I compare how long each function takes to see which is more efficient (very important when working with large data sets):"
   ]
  },
  {
   "cell_type": "code",
   "execution_count": 12,
   "metadata": {
    "scrolled": true
   },
   "outputs": [
    {
     "name": "stdout",
     "output_type": "stream",
     "text": [
      "1.0789353847503662\n",
      "0.005608558654785156\n"
     ]
    }
   ],
   "source": [
    "import time\n",
    "import random\n",
    "\n",
    "ids = [str(random.randint(1000000, 9999999)) for num in range(1,10001)]\n",
    "\n",
    "thing = Inventory('laptops.csv')\n",
    "\n",
    "total_time_no_dict = 0\n",
    "\n",
    "for id in ids:\n",
    "    start = time.time()\n",
    "    thing.get_laptop_from_id(id)\n",
    "    end = time.time()\n",
    "    total_time_no_dict += (end - start)\n",
    "    \n",
    "total_time_dict = 0\n",
    "\n",
    "for id in ids:\n",
    "    start = time.time()\n",
    "    thing.get_laptop_from_id_fast(id)\n",
    "    end = time.time()\n",
    "    total_time_dict += (end - start)\n",
    "    \n",
    "print(total_time_no_dict)\n",
    "print(total_time_dict)"
   ]
  },
  {
   "cell_type": "markdown",
   "metadata": {},
   "source": [
    "Fourth iteration of the Inventory Class:"
   ]
  },
  {
   "cell_type": "code",
   "execution_count": 13,
   "metadata": {},
   "outputs": [
    {
     "name": "stdout",
     "output_type": "stream",
     "text": [
      "745, 255\n",
      "True\n",
      "False\n"
     ]
    }
   ],
   "source": [
    "import csv\n",
    "\n",
    "class Inventory():\n",
    "    def __init__(self, csv_filename):\n",
    "        with open(csv_filename) as file:\n",
    "            csv_reader = list(csv.reader(file))\n",
    "            self.header = csv_reader[0]\n",
    "            self.rows = csv_reader[1:]\n",
    "            self.id_to_row = {}\n",
    "            for thing in self.rows:\n",
    "                price = int(thing[-1])\n",
    "                thing[-1] = price\n",
    "                id = thing[0]\n",
    "                self.id_to_row[id] = thing\n",
    "            \n",
    "    def get_laptop_from_id(self, laptop_id):\n",
    "        for item in self.rows:\n",
    "            if item[0] == laptop_id:\n",
    "                return item\n",
    "        return None\n",
    "    \n",
    "    def get_laptop_from_id_fast(self, laptop_id):\n",
    "        if laptop_id in self.id_to_row:\n",
    "            return self.id_to_row[laptop_id]\n",
    "        return None\n",
    "    \n",
    "    def check_promotion_dollars(self, dollars):\n",
    "        for row in self.rows:\n",
    "            price1 = row[-1]\n",
    "            if price1 == dollars:\n",
    "                print(price1)\n",
    "                return True\n",
    "            for row in self.rows:\n",
    "                price2 = row[-1]\n",
    "                if price1 + price2 == dollars:\n",
    "                    print(f\"{price1}, {price2}\")\n",
    "                    return True\n",
    "        return False\n",
    "            \n",
    "            \n",
    "\n",
    "thing = Inventory('laptops.csv')\n",
    "print(thing.check_promotion_dollars(1000))\n",
    "print(thing.check_promotion_dollars(442))"
   ]
  },
  {
   "cell_type": "markdown",
   "metadata": {},
   "source": [
    "Fifth iteration of the Inventory Class:"
   ]
  },
  {
   "cell_type": "code",
   "execution_count": 14,
   "metadata": {},
   "outputs": [
    {
     "name": "stdout",
     "output_type": "stream",
     "text": [
      "True\n",
      "False\n"
     ]
    }
   ],
   "source": [
    "import csv\n",
    "\n",
    "class Inventory():\n",
    "    def __init__(self, csv_filename):\n",
    "        with open(csv_filename) as file:\n",
    "            csv_reader = list(csv.reader(file))\n",
    "            self.header = csv_reader[0]\n",
    "            self.rows = csv_reader[1:]\n",
    "            self.id_to_row = {}\n",
    "            self.prices = set()\n",
    "            for thing in self.rows:\n",
    "                price = int(thing[-1])\n",
    "                thing[-1] = price\n",
    "                id = thing[0]\n",
    "                self.id_to_row[id] = thing\n",
    "                self.prices.add(price)   \n",
    "                \n",
    "    def get_laptop_from_id(self, laptop_id):\n",
    "        for item in self.rows:\n",
    "            if item[0] == laptop_id:\n",
    "                return item\n",
    "        return None\n",
    "    \n",
    "    def get_laptop_from_id_fast(self, laptop_id):\n",
    "        if laptop_id in self.id_to_row:\n",
    "            return self.id_to_row[laptop_id]\n",
    "        return None\n",
    "    \n",
    "    def check_promotion_dollars(self, dollars):\n",
    "        for row in self.rows:\n",
    "            price1 = row[-1]\n",
    "            if price1 == dollars:\n",
    "                return True\n",
    "            for row in self.rows:\n",
    "                price2 = row[-1]\n",
    "                if price1 + price2 == dollars:\n",
    "                    return True\n",
    "        return False\n",
    "    \n",
    "    def check_promotion_dollars_fast(self, dollars):\n",
    "        for price in self.prices:\n",
    "            price1 = price\n",
    "            if price == dollars:\n",
    "                return True\n",
    "            for price in self.prices:\n",
    "                price2 = price\n",
    "                if price1 + price2 == dollars:\n",
    "                    return True\n",
    "        return False\n",
    "    \n",
    "\n",
    "thing = Inventory('laptops.csv')\n",
    "print(thing.check_promotion_dollars_fast(1000))\n",
    "print(thing.check_promotion_dollars_fast(442))"
   ]
  },
  {
   "cell_type": "markdown",
   "metadata": {},
   "source": [
    "### Here I again compare how long each function takes to see which is more efficient:"
   ]
  },
  {
   "cell_type": "code",
   "execution_count": 15,
   "metadata": {
    "scrolled": true
   },
   "outputs": [
    {
     "name": "stdout",
     "output_type": "stream",
     "text": [
      "1.0492854118347168\n",
      "0.21586871147155762\n"
     ]
    }
   ],
   "source": [
    "prices = [random.randint(100, 5000) for num in range(1,101)]\n",
    "\n",
    "total_time_no_set = 0\n",
    "\n",
    "thing = Inventory('laptops.csv')\n",
    "\n",
    "for price in prices:\n",
    "    start = time.time()\n",
    "    thing.check_promotion_dollars(price)\n",
    "    end = time.time()\n",
    "    total_time_no_set += (end - start)\n",
    "    \n",
    "total_time_set = 0\n",
    "\n",
    "for price in prices:\n",
    "    start = time.time()\n",
    "    thing.check_promotion_dollars_fast(price)\n",
    "    end = time.time()\n",
    "    total_time_set += (end - start)\n",
    "    \n",
    "\n",
    "print(total_time_no_set)\n",
    "print(total_time_set)"
   ]
  },
  {
   "cell_type": "markdown",
   "metadata": {},
   "source": [
    "Sixth iteration of the Inventory Class:"
   ]
  },
  {
   "cell_type": "code",
   "execution_count": 16,
   "metadata": {},
   "outputs": [
    {
     "name": "stdout",
     "output_type": "stream",
     "text": [
      "683\n",
      "-1\n"
     ]
    }
   ],
   "source": [
    "import csv\n",
    "\n",
    "class Inventory():\n",
    "    def __init__(self, csv_filename):\n",
    "        with open(csv_filename) as file:\n",
    "            csv_reader = list(csv.reader(file))\n",
    "            self.header = csv_reader[0]\n",
    "            self.rows = csv_reader[1:]\n",
    "            self.id_to_row = {}\n",
    "            self.prices = set()\n",
    "            self.prices_list = []\n",
    "            for thing in self.rows:\n",
    "                price = int(thing[-1])\n",
    "                self.prices_list.append(price)\n",
    "                thing[-1] = price\n",
    "                id = thing[0]\n",
    "                self.id_to_row[id] = thing\n",
    "                self.prices.add(price)\n",
    "            self.rows_by_price = sorted(self.prices_list)\n",
    "            \n",
    "    \n",
    "                \n",
    "    def get_laptop_from_id(self, laptop_id):\n",
    "        for item in self.rows:\n",
    "            if item[0] == laptop_id:\n",
    "                return item\n",
    "        return None\n",
    "    \n",
    "    def get_laptop_from_id_fast(self, laptop_id):\n",
    "        if laptop_id in self.id_to_row:\n",
    "            return self.id_to_row[laptop_id]\n",
    "        return None\n",
    "    \n",
    "    def check_promotion_dollars(self, dollars):\n",
    "        for row in self.rows:\n",
    "            price1 = row[-1]\n",
    "            if price1 == dollars:\n",
    "                return True\n",
    "            for row in self.rows:\n",
    "                price2 = row[-1]\n",
    "                if price1 + price2 == dollars:\n",
    "                    return True\n",
    "        return False\n",
    "    \n",
    "    def check_promotion_dollars_fast(self, dollars):\n",
    "        for price in self.prices:\n",
    "            price1 = price\n",
    "            if price == dollars:\n",
    "                return True\n",
    "            for price in self.prices:\n",
    "                price2 = price\n",
    "                if price1 + price2 == dollars:\n",
    "                    return True\n",
    "        return False\n",
    "    \n",
    "    def find_first_laptop_more_expensive(self, price):\n",
    "        for row in self.rows_by_price:\n",
    "            if row > price:\n",
    "                return self.rows_by_price.index(row)\n",
    "        return -1\n",
    "            \n",
    "    \n",
    "thing = Inventory('laptops.csv')\n",
    "print(thing.find_first_laptop_more_expensive(1000))\n",
    "print(thing.find_first_laptop_more_expensive(10000))"
   ]
  },
  {
   "cell_type": "markdown",
   "metadata": {},
   "source": [
    "# Conclusion:\n",
    "\n",
    "The type of function used to view/sort/filter data is extremely important when dealing with large data sets. Even with this relatively small data set, there was an irrefutable difference in speed between the fast and the slow versions of each funcion."
   ]
  }
 ],
 "metadata": {
  "kernelspec": {
   "display_name": "Python 3",
   "language": "python",
   "name": "python3"
  },
  "language_info": {
   "codemirror_mode": {
    "name": "ipython",
    "version": 3
   },
   "file_extension": ".py",
   "mimetype": "text/x-python",
   "name": "python",
   "nbconvert_exporter": "python",
   "pygments_lexer": "ipython3",
   "version": "3.8.2"
  }
 },
 "nbformat": 4,
 "nbformat_minor": 2
}
